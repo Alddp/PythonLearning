{
 "cells": [
  {
   "cell_type": "code",
   "execution_count": 1,
   "metadata": {},
   "outputs": [],
   "source": [
    "tableData = [\n",
    "    [\"apples\", \"oranges\", \"cherries\", \"banana\"],\n",
    "    [\"Alice\", \"Bob\", \"Carol\", \"David\"],\n",
    "    [\"dogs\", \"cats\", \"moose\", \"goose\"],\n",
    "]\n",
    "colwidths = [0] * len(tableData)\n"
   ]
  },
  {
   "cell_type": "code",
   "execution_count": null,
   "metadata": {},
   "outputs": [],
   "source": [
    "\n",
    "for i in range(len(tableData)):\n",
    "    max_width = 0\n",
    "    for j in tableData[i]:\n",
    "        if max_width < len(j):\n",
    "            max_width = len(j)\n",
    "    colwidths[i] = max_width\n"
   ]
  },
  {
   "cell_type": "code",
   "execution_count": null,
   "metadata": {},
   "outputs": [],
   "source": [
    "\n",
    "for i in range(len(tableData[0])):\n",
    "    for j in range(len(tableData)):\n",
    "        content = tableData[j][i]\n",
    "        if j == 0:\n",
    "            content = content.rjust(colwidths[j])\n",
    "        else:\n",
    "            content = content.ljust(colwidths[j])\n",
    "        print(content, end=\" \")\n",
    "    print()"
   ]
  },
  {
   "cell_type": "markdown",
   "metadata": {},
   "source": [
    "找出最长长度"
   ]
  }
 ],
 "metadata": {
  "kernelspec": {
   "display_name": "Python 3",
   "language": "python",
   "name": "python3"
  },
  "language_info": {
   "codemirror_mode": {
    "name": "ipython",
    "version": 3
   },
   "file_extension": ".py",
   "mimetype": "text/x-python",
   "name": "python",
   "nbconvert_exporter": "python",
   "pygments_lexer": "ipython3",
   "version": "3.12.1"
  }
 },
 "nbformat": 4,
 "nbformat_minor": 2
}
