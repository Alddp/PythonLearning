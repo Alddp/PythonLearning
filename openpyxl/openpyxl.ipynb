{
 "cells": [
  {
   "cell_type": "markdown",
   "metadata": {},
   "source": [
    "# openpyxl"
   ]
  },
  {
   "cell_type": "markdown",
   "metadata": {},
   "source": [
    "## 表操作"
   ]
  },
  {
   "cell_type": "markdown",
   "metadata": {},
   "source": [
    "### 创建工作簿"
   ]
  },
  {
   "cell_type": "code",
   "execution_count": 26,
   "metadata": {},
   "outputs": [
    {
     "data": {
      "text/plain": [
       "<Worksheet \"Sheet\">"
      ]
     },
     "execution_count": 26,
     "metadata": {},
     "output_type": "execute_result"
    }
   ],
   "source": [
    "from openpyxl import Workbook\n",
    "\n",
    "wb = Workbook()\n",
    "ws = wb.active\n",
    "ws = wb[\"Sheet\"]\n",
    "ws\n",
    "# or\n",
    "# ws = wb[\"Sheet\"]"
   ]
  },
  {
   "cell_type": "markdown",
   "metadata": {},
   "source": [
    "### 从文件加载\n",
    "`load_workbook(data_only,keep_vba)`\n",
    "\n",
    "- `data_only`控制带有公式的单元格是否具有公式（默认值）或上次 Excel 读取工作表时存储的值。\n",
    "- `keep_vba`控制是否保留任何 Visual Basic 元素（默认）。如果它们被保留，它们仍然不可编辑。\n",
    "- `read_only`是否以只读模式打开\n",
    "\n",
    "openpyxl 目前不会读取 Excel 文件中所有可能的项目，因此如果以相同的名称打开和保存形状，则形状将从现有文件中丢失。"
   ]
  },
  {
   "cell_type": "code",
   "execution_count": 27,
   "metadata": {},
   "outputs": [],
   "source": [
    "# from openpyxl import load_workbook\n",
    "# wb = load_workbook(filename = 'example.xlsx')\n",
    "# ws = wb['Sheet']\n",
    "# print(ws['D18'].value)"
   ]
  },
  {
   "cell_type": "markdown",
   "metadata": {},
   "source": [
    "### 查看所有工作表"
   ]
  },
  {
   "cell_type": "code",
   "execution_count": 28,
   "metadata": {},
   "outputs": [
    {
     "name": "stdout",
     "output_type": "stream",
     "text": [
      "<class 'list'>\n",
      "['Sheet']\n"
     ]
    }
   ],
   "source": [
    "sheets: list = wb.sheetnames\n",
    "print(type(sheets))\n",
    "print(sheets)"
   ]
  },
  {
   "cell_type": "markdown",
   "metadata": {},
   "source": [
    "### 创建工作表"
   ]
  },
  {
   "cell_type": "code",
   "execution_count": 29,
   "metadata": {},
   "outputs": [],
   "source": [
    "ws1 = wb.create_sheet(\"Mysheet1\")  # insert at the end (default)\n",
    "# or\n",
    "ws2 = wb.create_sheet(\"Mysheet2\", 0)  # insert at first position\n",
    "# or\n",
    "ws3 = wb.create_sheet(\"Mysheet3\", -1)  # insert at the penultimate position"
   ]
  },
  {
   "cell_type": "markdown",
   "metadata": {},
   "source": [
    "### 使用`title`属性更改sheet标题"
   ]
  },
  {
   "cell_type": "code",
   "execution_count": 30,
   "metadata": {},
   "outputs": [
    {
     "name": "stdout",
     "output_type": "stream",
     "text": [
      "['Mysheet2', 'Sheet', 'Newsheet', 'Mysheet1']\n"
     ]
    }
   ],
   "source": [
    "ws3.title = 'Newsheet'\n",
    "print(wb.sheetnames)"
   ]
  },
  {
   "cell_type": "markdown",
   "metadata": {},
   "source": [
    "### 遍历工作表"
   ]
  },
  {
   "cell_type": "code",
   "execution_count": 31,
   "metadata": {},
   "outputs": [
    {
     "name": "stdout",
     "output_type": "stream",
     "text": [
      "Mysheet2\n",
      "Sheet\n",
      "Newsheet\n",
      "Mysheet1\n"
     ]
    }
   ],
   "source": [
    "for sheet in wb:\n",
    "    print(sheet.title)"
   ]
  },
  {
   "cell_type": "markdown",
   "metadata": {},
   "source": [
    "### 复制工作表\n",
    "仅复制单元格（包括值、样式、超链接和注释）和某些工作表属性（包括维度、格式和属性）。不会复制所有其他工作簿/工作表属性 - 例如图像、图表。\n",
    "\n",
    "您也不能在工作簿之间复制工作表。如果工作簿以**只读**或**只写**模式打开，则无法复制工作表。"
   ]
  },
  {
   "cell_type": "code",
   "execution_count": 32,
   "metadata": {},
   "outputs": [
    {
     "name": "stdout",
     "output_type": "stream",
     "text": [
      "['Mysheet2', 'Sheet', 'Newsheet', 'Mysheet1', 'Mysheet2 Copy']\n"
     ]
    }
   ],
   "source": [
    "source = wb.active\n",
    "target = wb.copy_worksheet(source)\n",
    "print(wb.sheetnames)"
   ]
  },
  {
   "cell_type": "markdown",
   "metadata": {},
   "source": [
    "## 单元格操作"
   ]
  },
  {
   "cell_type": "markdown",
   "metadata": {},
   "source": [
    "###  访问一个单元格"
   ]
  },
  {
   "cell_type": "code",
   "execution_count": 33,
   "metadata": {},
   "outputs": [
    {
     "name": "stdout",
     "output_type": "stream",
     "text": [
      "<Cell 'Sheet'.A4>\n",
      "4\n"
     ]
    }
   ],
   "source": [
    "c = ws[\"A4\"]  # 这将返回 A4 处的单元格，如果尚不存在，则创建一个单元格。\n",
    "ws[\"A4\"] = 4\n",
    "print(c)\n",
    "print(c.value)"
   ]
  },
  {
   "cell_type": "code",
   "execution_count": 34,
   "metadata": {},
   "outputs": [
    {
     "name": "stdout",
     "output_type": "stream",
     "text": [
      "10\n"
     ]
    }
   ],
   "source": [
    "b4 = ws.cell(row=4, column=2, value=10)\n",
    "print(b4.value)"
   ]
  },
  {
   "cell_type": "markdown",
   "metadata": {},
   "source": [
    "注意:在内存中创建工作表时，它不包含单元格。它们是在首次访问时创建的"
   ]
  },
  {
   "cell_type": "markdown",
   "metadata": {},
   "source": [
    "### 访问多个单元格"
   ]
  },
  {
   "cell_type": "code",
   "execution_count": 35,
   "metadata": {},
   "outputs": [
    {
     "data": {
      "text/plain": [
       "((<Cell 'Sheet'.A1>, <Cell 'Sheet'.B1>, <Cell 'Sheet'.C1>),\n",
       " (<Cell 'Sheet'.A2>, <Cell 'Sheet'.B2>, <Cell 'Sheet'.C2>))"
      ]
     },
     "execution_count": 35,
     "metadata": {},
     "output_type": "execute_result"
    }
   ],
   "source": [
    "cell_range: tuple = ws[\"A1\":\"C2\"]\n",
    "cell_range"
   ]
  },
  {
   "cell_type": "code",
   "execution_count": 36,
   "metadata": {},
   "outputs": [
    {
     "data": {
      "text/plain": [
       "(<Cell 'Sheet'.C1>, <Cell 'Sheet'.C2>, <Cell 'Sheet'.C3>, <Cell 'Sheet'.C4>)"
      ]
     },
     "execution_count": 36,
     "metadata": {},
     "output_type": "execute_result"
    }
   ],
   "source": [
    "colC:tuple = ws[\"C\"]\n",
    "colC"
   ]
  },
  {
   "cell_type": "code",
   "execution_count": 37,
   "metadata": {},
   "outputs": [
    {
     "data": {
      "text/plain": [
       "((<Cell 'Sheet'.C1>, <Cell 'Sheet'.C2>, <Cell 'Sheet'.C3>, <Cell 'Sheet'.C4>),\n",
       " (<Cell 'Sheet'.D1>, <Cell 'Sheet'.D2>, <Cell 'Sheet'.D3>, <Cell 'Sheet'.D4>))"
      ]
     },
     "execution_count": 37,
     "metadata": {},
     "output_type": "execute_result"
    }
   ],
   "source": [
    "col_range:tuple = ws[\"C:D\"]\n",
    "col_range"
   ]
  },
  {
   "cell_type": "code",
   "execution_count": 38,
   "metadata": {},
   "outputs": [
    {
     "data": {
      "text/plain": [
       "(<Cell 'Sheet'.A10>,\n",
       " <Cell 'Sheet'.B10>,\n",
       " <Cell 'Sheet'.C10>,\n",
       " <Cell 'Sheet'.D10>)"
      ]
     },
     "execution_count": 38,
     "metadata": {},
     "output_type": "execute_result"
    }
   ],
   "source": [
    "row10: tuple = ws[10]\n",
    "row10"
   ]
  },
  {
   "cell_type": "code",
   "execution_count": 39,
   "metadata": {},
   "outputs": [
    {
     "data": {
      "text/plain": [
       "((<Cell 'Sheet'.A5>, <Cell 'Sheet'.B5>, <Cell 'Sheet'.C5>, <Cell 'Sheet'.D5>),\n",
       " (<Cell 'Sheet'.A6>, <Cell 'Sheet'.B6>, <Cell 'Sheet'.C6>, <Cell 'Sheet'.D6>),\n",
       " (<Cell 'Sheet'.A7>, <Cell 'Sheet'.B7>, <Cell 'Sheet'.C7>, <Cell 'Sheet'.D7>),\n",
       " (<Cell 'Sheet'.A8>, <Cell 'Sheet'.B8>, <Cell 'Sheet'.C8>, <Cell 'Sheet'.D8>),\n",
       " (<Cell 'Sheet'.A9>, <Cell 'Sheet'.B9>, <Cell 'Sheet'.C9>, <Cell 'Sheet'.D9>),\n",
       " (<Cell 'Sheet'.A10>,\n",
       "  <Cell 'Sheet'.B10>,\n",
       "  <Cell 'Sheet'.C10>,\n",
       "  <Cell 'Sheet'.D10>))"
      ]
     },
     "execution_count": 39,
     "metadata": {},
     "output_type": "execute_result"
    }
   ],
   "source": [
    "\n",
    "row_range = ws[5:10]\n",
    "row_range"
   ]
  },
  {
   "cell_type": "markdown",
   "metadata": {},
   "source": [
    "#### `Worksheet.iter_rows()`\n",
    "可以采用参数 `values_only=True` 来仅返回单元格的值"
   ]
  },
  {
   "cell_type": "code",
   "execution_count": 40,
   "metadata": {},
   "outputs": [
    {
     "data": {
      "text/plain": [
       "<generator object Worksheet._cells_by_col at 0x000002217EF9FAC0>"
      ]
     },
     "execution_count": 40,
     "metadata": {},
     "output_type": "execute_result"
    }
   ],
   "source": [
    "ws.iter_cols()"
   ]
  },
  {
   "cell_type": "code",
   "execution_count": 41,
   "metadata": {},
   "outputs": [
    {
     "data": {
      "text/plain": [
       "generator"
      ]
     },
     "execution_count": 41,
     "metadata": {},
     "output_type": "execute_result"
    }
   ],
   "source": [
    "type(ws.iter_cols())"
   ]
  },
  {
   "cell_type": "code",
   "execution_count": 42,
   "metadata": {},
   "outputs": [
    {
     "name": "stdout",
     "output_type": "stream",
     "text": [
      "(None, None, None)\n",
      "(None, None, None)\n"
     ]
    }
   ],
   "source": [
    "for row in ws.iter_rows(min_row=1, max_col=3, max_row=2, values_only=True):\n",
    "    print(row)"
   ]
  },
  {
   "cell_type": "markdown",
   "metadata": {},
   "source": [
    "#### `Worksheet.iter_cols()`\n",
    "出于性能原因，该 `Worksheet.iter_cols()` 方法在只读模式下不可用。"
   ]
  },
  {
   "cell_type": "code",
   "execution_count": 43,
   "metadata": {},
   "outputs": [
    {
     "name": "stdout",
     "output_type": "stream",
     "text": [
      "<Cell 'Sheet'.A1>\n",
      "<Cell 'Sheet'.A2>\n",
      "<Cell 'Sheet'.B1>\n",
      "<Cell 'Sheet'.B2>\n",
      "<Cell 'Sheet'.C1>\n",
      "<Cell 'Sheet'.C2>\n"
     ]
    }
   ],
   "source": [
    "for col in ws.iter_cols(min_row=1, max_col=3, max_row=2):\n",
    "    for cell in col:\n",
    "        print(cell)"
   ]
  },
  {
   "cell_type": "markdown",
   "metadata": {},
   "source": [
    "#### `Worksheet.rows`\n",
    "如果需要循环访问文件的所有行或列，可以改用以下 `Worksheet.rows` 属性："
   ]
  },
  {
   "cell_type": "code",
   "execution_count": 44,
   "metadata": {},
   "outputs": [],
   "source": [
    "ws['C9'] = 'hello world'\n"
   ]
  },
  {
   "cell_type": "code",
   "execution_count": 45,
   "metadata": {},
   "outputs": [
    {
     "data": {
      "text/plain": [
       "<generator object Worksheet._cells_by_row at 0x000002217F14C040>"
      ]
     },
     "execution_count": 45,
     "metadata": {},
     "output_type": "execute_result"
    }
   ],
   "source": [
    "ws.rows"
   ]
  },
  {
   "cell_type": "code",
   "execution_count": 46,
   "metadata": {},
   "outputs": [
    {
     "data": {
      "text/plain": [
       "((<Cell 'Sheet'.A1>, <Cell 'Sheet'.B1>, <Cell 'Sheet'.C1>, <Cell 'Sheet'.D1>),\n",
       " (<Cell 'Sheet'.A2>, <Cell 'Sheet'.B2>, <Cell 'Sheet'.C2>, <Cell 'Sheet'.D2>),\n",
       " (<Cell 'Sheet'.A3>, <Cell 'Sheet'.B3>, <Cell 'Sheet'.C3>, <Cell 'Sheet'.D3>),\n",
       " (<Cell 'Sheet'.A4>, <Cell 'Sheet'.B4>, <Cell 'Sheet'.C4>, <Cell 'Sheet'.D4>),\n",
       " (<Cell 'Sheet'.A5>, <Cell 'Sheet'.B5>, <Cell 'Sheet'.C5>, <Cell 'Sheet'.D5>),\n",
       " (<Cell 'Sheet'.A6>, <Cell 'Sheet'.B6>, <Cell 'Sheet'.C6>, <Cell 'Sheet'.D6>),\n",
       " (<Cell 'Sheet'.A7>, <Cell 'Sheet'.B7>, <Cell 'Sheet'.C7>, <Cell 'Sheet'.D7>),\n",
       " (<Cell 'Sheet'.A8>, <Cell 'Sheet'.B8>, <Cell 'Sheet'.C8>, <Cell 'Sheet'.D8>),\n",
       " (<Cell 'Sheet'.A9>, <Cell 'Sheet'.B9>, <Cell 'Sheet'.C9>, <Cell 'Sheet'.D9>),\n",
       " (<Cell 'Sheet'.A10>,\n",
       "  <Cell 'Sheet'.B10>,\n",
       "  <Cell 'Sheet'.C10>,\n",
       "  <Cell 'Sheet'.D10>))"
      ]
     },
     "execution_count": 46,
     "metadata": {},
     "output_type": "execute_result"
    }
   ],
   "source": [
    "tuple(ws.rows)"
   ]
  },
  {
   "cell_type": "markdown",
   "metadata": {},
   "source": [
    "#### `Worksheet.columns`\n",
    "出于性能原因，该`Worksheet.columns`属性在只读模式下不可用。"
   ]
  },
  {
   "cell_type": "code",
   "execution_count": 47,
   "metadata": {},
   "outputs": [
    {
     "data": {
      "text/plain": [
       "<generator object Worksheet._cells_by_col at 0x000002217F14C3A0>"
      ]
     },
     "execution_count": 47,
     "metadata": {},
     "output_type": "execute_result"
    }
   ],
   "source": [
    "ws.columns"
   ]
  },
  {
   "cell_type": "code",
   "execution_count": 48,
   "metadata": {},
   "outputs": [
    {
     "name": "stdout",
     "output_type": "stream",
     "text": [
      "<Cell 'Sheet'.A1>\n",
      "<Cell 'Sheet'.A2>\n",
      "<Cell 'Sheet'.A3>\n",
      "<Cell 'Sheet'.A4>\n",
      "<Cell 'Sheet'.A5>\n",
      "<Cell 'Sheet'.A6>\n",
      "<Cell 'Sheet'.A7>\n",
      "<Cell 'Sheet'.A8>\n",
      "<Cell 'Sheet'.A9>\n",
      "<Cell 'Sheet'.A10>\n",
      "\n",
      "<Cell 'Sheet'.B1>\n",
      "<Cell 'Sheet'.B2>\n",
      "<Cell 'Sheet'.B3>\n",
      "<Cell 'Sheet'.B4>\n",
      "<Cell 'Sheet'.B5>\n",
      "<Cell 'Sheet'.B6>\n",
      "<Cell 'Sheet'.B7>\n",
      "<Cell 'Sheet'.B8>\n",
      "<Cell 'Sheet'.B9>\n",
      "<Cell 'Sheet'.B10>\n",
      "\n",
      "<Cell 'Sheet'.C1>\n",
      "<Cell 'Sheet'.C2>\n",
      "<Cell 'Sheet'.C3>\n",
      "<Cell 'Sheet'.C4>\n",
      "<Cell 'Sheet'.C5>\n",
      "<Cell 'Sheet'.C6>\n",
      "<Cell 'Sheet'.C7>\n",
      "<Cell 'Sheet'.C8>\n",
      "<Cell 'Sheet'.C9>\n",
      "<Cell 'Sheet'.C10>\n",
      "\n",
      "<Cell 'Sheet'.D1>\n",
      "<Cell 'Sheet'.D2>\n",
      "<Cell 'Sheet'.D3>\n",
      "<Cell 'Sheet'.D4>\n",
      "<Cell 'Sheet'.D5>\n",
      "<Cell 'Sheet'.D6>\n",
      "<Cell 'Sheet'.D7>\n",
      "<Cell 'Sheet'.D8>\n",
      "<Cell 'Sheet'.D9>\n",
      "<Cell 'Sheet'.D10>\n",
      "\n"
     ]
    }
   ],
   "source": [
    "tuple(ws.columns)\n",
    "\n",
    "for colum in ws.columns:\n",
    "    for cell in colum:\n",
    "        print(cell)\n",
    "    print()"
   ]
  },
  {
   "cell_type": "markdown",
   "metadata": {},
   "source": [
    "## 保存文件"
   ]
  },
  {
   "cell_type": "code",
   "execution_count": 49,
   "metadata": {},
   "outputs": [],
   "source": [
    "wb.save('example.xlsx')"
   ]
  },
  {
   "cell_type": "markdown",
   "metadata": {},
   "source": [
    "### 将工作簿另存为模板"
   ]
  },
  {
   "cell_type": "code",
   "execution_count": 50,
   "metadata": {},
   "outputs": [],
   "source": [
    "# wb = load_workbook('document.xlsx')\n",
    "# wb.template = True\n",
    "# wb.save('document_template.xltx')"
   ]
  },
  {
   "cell_type": "markdown",
   "metadata": {},
   "source": []
  }
 ],
 "metadata": {
  "kernelspec": {
   "display_name": "Python 3",
   "language": "python",
   "name": "python3"
  },
  "language_info": {
   "codemirror_mode": {
    "name": "ipython",
    "version": 3
   },
   "file_extension": ".py",
   "mimetype": "text/x-python",
   "name": "python",
   "nbconvert_exporter": "python",
   "pygments_lexer": "ipython3",
   "version": "3.12.1"
  }
 },
 "nbformat": 4,
 "nbformat_minor": 2
}
