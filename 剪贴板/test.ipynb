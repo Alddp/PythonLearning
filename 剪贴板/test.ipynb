{
 "cells": [
  {
   "cell_type": "code",
   "execution_count": null,
   "metadata": {},
   "outputs": [],
   "source": [
    "import pyperclip\n",
    "import sys\n",
    "\n",
    "TEXT = {\n",
    "    \"agree\": \"\"\"Yes, I agree. That sounds fine to me.\"\"\",\n",
    "    \"busy\": \"\"\"Sorry, can we do this later this week or next week?\"\"\",\n",
    "    \"upsell\": \"\"\"Would you consider making this a monthly donation?\"\"\",\n",
    "}\n",
    ""
   ]
  },
  {
   "cell_type": "code",
   "execution_count": null,
   "metadata": {},
   "outputs": [],
   "source": [
    "if len(sys.argv) < 2:\n",
    "    print(\"未传参数\")\n",
    "    sys.exit()\n",
    ""
   ]
  },
  {
   "cell_type": "code",
   "execution_count": null,
   "metadata": {},
   "outputs": [],
   "source": [
    "keyphrase = sys.argv[1]\n",
    "\n",
    "if keyphrase in TEXT:\n",
    "    pyperclip.copy(TEXT[keyphrase])\n",
    "    print(f\"{keyphrase}短语已经复制到剪贴板\")\n",
    "else:\n",
    "    print(\"找不到对应短语\")\n",
    ""
   ]
  },
  {
   "cell_type": "code",
   "execution_count": null,
   "metadata": {},
   "outputs": [],
   "source": [
    ""
   ]
  }
 ],
 "nbformat": 4,
 "nbformat_minor": 2,
 "metadata": {
  "language_info": {
   "codemirror_mode": {
    "name": "ipython",
    "version": 3
   },
   "file_extension": ".py",
   "mimetype": "text/x-python",
   "name": "python",
   "nbconvert_exporter": "python",
   "pygments_lexer": "ipython3",
   "version": 3
  }
 }
}