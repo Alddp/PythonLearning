{
 "cells": [
  {
   "cell_type": "markdown",
   "metadata": {},
   "source": [
    "创建字典"
   ]
  },
  {
   "cell_type": "code",
   "execution_count": null,
   "metadata": {},
   "outputs": [],
   "source": [
    "#! python3\n",
    "# mclip.py - A multi-clipboard program.\n",
    "\n",
    "TEXT = {\n",
    "    \"agree\": \"\"\"Yes, I agree. That sounds fine to me.\"\"\",\n",
    "    \"busy\": \"\"\"Sorry, can we do this later this week or next week?\"\"\",\n",
    "    \"upsell\": \"\"\"Would you consider making this a monthly donation?\"\"\",\n",
    "}"
   ]
  },
  {
   "cell_type": "markdown",
   "metadata": {},
   "source": [
    " 令行参数将存储在变量sys.argv 中"
   ]
  },
  {
   "cell_type": "code",
   "execution_count": null,
   "metadata": {},
   "outputs": [],
   "source": [
    "import sys\n",
    "\n",
    "\n",
    "if len(sys.argv) < 2:\n",
    "\n",
    "    print(\"Usage: python mclip.py [keyphrase] - copy phrase text\")\n",
    "    sys.exit()\n",
    "\n",
    "keyphrase = sys.argv[1]  # first command line arg is the keyphrase"
   ]
  },
  {
   "cell_type": "markdown",
   "metadata": {},
   "source": [
    " 如果keyphrase在字典中,则将值复制到剪贴板"
   ]
  },
  {
   "cell_type": "code",
   "execution_count": null,
   "metadata": {},
   "outputs": [],
   "source": [
    "import pyperclip\n",
    "\n",
    "if keyphrase in TEXT:\n",
    "\n",
    "    pyperclip.copy(TEXT[keyphrase])\n",
    "\n",
    "    print(\"Text for \" + keyphrase + \" copied to clipboard.\")\n",
    "\n",
    "else:\n",
    "\n",
    "    print(\"There is no text for \" + keyphrase)"
   ]
  }
 ],
 "metadata": {
  "language_info": {
   "codemirror_mode": {
    "name": "ipython",
    "version": 3
   },
   "file_extension": ".py",
   "mimetype": "text/x-python",
   "name": "python",
   "nbconvert_exporter": "python",
   "pygments_lexer": "ipython3",
   "version": 3
  }
 },
 "nbformat": 4,
 "nbformat_minor": 2
}
