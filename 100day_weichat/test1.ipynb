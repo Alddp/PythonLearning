{
 "cells": [
  {
   "cell_type": "code",
   "execution_count": 6,
   "metadata": {},
   "outputs": [],
   "source": [
    "from openpyxl import Workbook,load_workbook\n",
    "\n",
    "# 创建一个 workbook\n",
    "wb = Workbook()\n",
    "# 获取被激活的 worksheet\n",
    "ws = wb.active\n",
    "# 设置单元格内容\n",
    "ws[\"A1\"] = 42\n",
    "# 设置一行内容\n",
    "# python 数据类型可以被自动转换\n",
    "import datetime\n",
    "\n",
    "ws[\"A2\"] = datetime.datetime.now()\n",
    "\n",
    "ws.append([1, 2, 3])  # 这行代码将一个列表[1, 2, 3]添加到活动工作表的下一行。\n",
    "ws.append((1, 2, 3))\n",
    "\n",
    "# 保存 Excel 文件\n",
    "wb.save(\"sample.xlsx\")"
   ]
  },
  {
   "cell_type": "markdown",
   "metadata": {},
   "source": [
    "操作 sheet"
   ]
  },
  {
   "cell_type": "code",
   "execution_count": 5,
   "metadata": {},
   "outputs": [],
   "source": [
    "from openpyxl import Workbook\n",
    "\n",
    "wb = Workbook()\n",
    "ws = wb.active\n",
    "\n",
    "ws1 = wb.create_sheet(\"sheet\")  # 创建一个 sheet 名为 sheet\n",
    "ws1.title = \"新表单\"  # 设置 sheet 标题\n",
    "ws2 = wb.create_sheet(\"mysheet\", 0)  # 创建一个 sheet，插入到最前面 默认插在后面\n",
    "ws2.title = \"你好\"  # 设置 sheet 标题\n",
    "\n",
    "ws1.sheet_properties.tabColor = \"1072BA\"  # 设置 sheet 标签背景色\n",
    "\n",
    "# 获取 sheet\n",
    "ws3 = wb.get_sheet_by_name(\"你好\")\n",
    "ws4 = wb[\"New Title\"]\n",
    "\n",
    "# 复制 sheet\n",
    "ws1_copy = wb.copy_worksheet(ws1)\n",
    "\n",
    "# 删除 sheet\n",
    "wb.remove(ws1)\n",
    "wb.save(\"blacd.xlsx\")"
   ]
  },
  {
   "cell_type": "markdown",
   "metadata": {},
   "source": [
    "cell"
   ]
  },
  {
   "cell_type": "code",
   "execution_count": null,
   "metadata": {},
   "outputs": [],
   "source": [
    "ws1 = wb.create_sheet(\"Mysheet\")  # 创建一个sheet\n",
    "# 通过单元格名称设置\n",
    "ws1[\"A1\"] = 123.11\n",
    "ws1[\"B2\"] = \"你好\"\n",
    "\n",
    "# 通过行列坐标设置\n",
    "d = ws1.cell(row=4, column=2, value=10)"
   ]
  },
  {
   "cell_type": "code",
   "execution_count": 7,
   "metadata": {},
   "outputs": [],
   "source": [
    "from openpyxl.styles import Font, PatternFill, Border, Side, Alignment, Protection\n",
    "from openpyxl.styles import numbers\n",
    "\n",
    "wb = Workbook()\n",
    "ws = wb.active\n",
    "ws.cell(row=1, column=1, value=\"宋体\").font = Font(\n",
    "    name=\"宋体\", size=12, bold=True, color=\"FF0000\"\n",
    ")\n",
    "ws.cell(row=2, column=2, value=\"右对齐\").alignment = Alignment(horizontal=\"right\")\n",
    "ws.cell(row=3, column=3, value=\"填充渐变色\").fill = PatternFill(\n",
    "    fill_type=\"solid\", start_color=\"FF0000\"\n",
    ")\n",
    "ws.cell(row=4, column=4, value=\"设置边线\").border = Border(\n",
    "    left=Side(border_style=\"thin\", color=\"FF0000\"),\n",
    "    right=Side(border_style=\"thin\", color=\"FF0000\"),\n",
    ")\n",
    "ws.cell(row=5, column=5, value=\"受保护的\").protection = Protection(\n",
    "    locked=True, hidden=True\n",
    ")\n",
    "ws.cell(row=6, column=6, value=0.54).number_format = numbers.FORMAT_PERCENTAGE\n",
    "wb.save(\"formmat.xlsx\")"
   ]
  }
 ],
 "metadata": {
  "kernelspec": {
   "display_name": "Python 3",
   "language": "python",
   "name": "python3"
  },
  "language_info": {
   "codemirror_mode": {
    "name": "ipython",
    "version": 3
   },
   "file_extension": ".py",
   "mimetype": "text/x-python",
   "name": "python",
   "nbconvert_exporter": "python",
   "pygments_lexer": "ipython3",
   "version": "3.12.1"
  }
 },
 "nbformat": 4,
 "nbformat_minor": 2
}
