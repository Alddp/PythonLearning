{
 "cells": [
  {
   "cell_type": "markdown",
   "metadata": {},
   "source": [
    "`json.dumps(obj)` 序列化，`obj` 转换为 `json` 格式的字符串；\n",
    "\n",
    "`json.dump(obj, fp)` 序列化，将 `obj` 转换为 `json` 格式的字符串，将字符串写入文件；\n",
    "\n",
    "`json.loads(str)` 反序列化，将 `json` 格式的字符串反序列化为一个 Python 对象；\n",
    "\n",
    "`json.load(fp)` 反序列化，从文件中读取含 `json` 格式的数据，将之反序列化为一个 Python 对象。"
   ]
  },
  {
   "cell_type": "code",
   "execution_count": 2,
   "metadata": {},
   "outputs": [
    {
     "data": {
      "text/plain": [
       "{'id': '1', 'name': 'jhon', 'age': 12}"
      ]
     },
     "execution_count": 2,
     "metadata": {},
     "output_type": "execute_result"
    }
   ],
   "source": [
    "import json\n",
    "\n",
    "\n",
    "data = '{\"id\": \"1\", \"name\": \"jhon\", \"age\": 12}'\n",
    "json.loads(data)"
   ]
  },
  {
   "cell_type": "code",
   "execution_count": 4,
   "metadata": {},
   "outputs": [
    {
     "name": "stdout",
     "output_type": "stream",
     "text": [
      "{'id': '1', 'name': 'jhon', 'age': 12}\n"
     ]
    }
   ],
   "source": [
    "data = {\"id\": \"1\", \"name\": \"jhon\", \"age\": 12}\n",
    "with open(\"t.json\", \"w\") as f:\n",
    "    json.dump(data, f)\n",
    "with open(\"t.json\", \"r\") as f:\n",
    "    d = json.load(f)\n",
    "print(d)\n",
    "# {\"id\": \"1\", \"name\": \"jhon\", \"age\": 12}"
   ]
  }
 ],
 "metadata": {
  "kernelspec": {
   "display_name": "Python 3",
   "language": "python",
   "name": "python3"
  },
  "language_info": {
   "codemirror_mode": {
    "name": "ipython",
    "version": 3
   },
   "file_extension": ".py",
   "mimetype": "text/x-python",
   "name": "python",
   "nbconvert_exporter": "python",
   "pygments_lexer": "ipython3",
   "version": "3.12.1"
  }
 },
 "nbformat": 4,
 "nbformat_minor": 2
}
