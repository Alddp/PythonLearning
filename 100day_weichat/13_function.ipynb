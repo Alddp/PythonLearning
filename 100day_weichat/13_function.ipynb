{
 "cells": [
  {
   "cell_type": "markdown",
   "metadata": {},
   "source": [
    "## 默认值参数"
   ]
  },
  {
   "cell_type": "code",
   "execution_count": 1,
   "metadata": {},
   "outputs": [
    {
     "name": "stdout",
     "output_type": "stream",
     "text": [
      "[1]\n",
      "[1, 2]\n",
      "[1, 2, 3]\n"
     ]
    }
   ],
   "source": [
    "def f(a, l=[]):\n",
    "    l.append(a)\n",
    "    return l\n",
    "\n",
    "\n",
    "# 此时调用函数\n",
    "print(f(1))\n",
    "print(f(2))\n",
    "print(f(3))\n",
    "# 这是由于函数在初始化时，默认值只会执行一次，所以在默认值为可变对象（列表、字典以及大多数类实例），我们可以如下操作："
   ]
  },
  {
   "cell_type": "code",
   "execution_count": 2,
   "metadata": {},
   "outputs": [
    {
     "name": "stdout",
     "output_type": "stream",
     "text": [
      "[1]\n",
      "[2]\n",
      "[3]\n"
     ]
    }
   ],
   "source": [
    "def f(a, l=None):\n",
    "    if l is None:\n",
    "        l = []\n",
    "    l.append(a)\n",
    "    return l\n",
    "\n",
    "\n",
    "# 再次调用函数\n",
    "print(f(1))\n",
    "print(f(2))\n",
    "print(f(3))"
   ]
  },
  {
   "cell_type": "markdown",
   "metadata": {},
   "source": [
    "## 可变参数"
   ]
  },
  {
   "cell_type": "markdown",
   "metadata": {},
   "source": [
    "可变参数也就是我们对于函数中定义的参数是可以一个或多个可以变化的，其中 `*args`代表着可以传入一个`list`或者`tuple`, `**args`代表着可以传入一个dict。"
   ]
  },
  {
   "cell_type": "code",
   "execution_count": 3,
   "metadata": {},
   "outputs": [
    {
     "name": "stdout",
     "output_type": "stream",
     "text": [
      "friend :  xiaoming ;\n",
      "----------------------------------------\n",
      "hello xiaoming\n",
      "nice to meet you!\n",
      "----------------------------------------\n",
      "mother : xiaoma\n",
      "father : xiaoba\n",
      "son : see you\n",
      "friend :  xiaoming ;\n",
      "----------------------------------------\n",
      "hello xiaoming\n",
      "nice to meet you!\n",
      "----------------------------------------\n",
      "mother : xiaoma\n",
      "father : xiaoba\n",
      "son : see you\n"
     ]
    }
   ],
   "source": [
    "def variable_fun(kind, *arguments, **keywords):\n",
    "    print(\"friend : \", kind, \";\")\n",
    "    print(\"-\" * 40)\n",
    "    for arg in arguments:\n",
    "        print(arg)\n",
    "    print(\"-\" * 40)\n",
    "    for kw in keywords:\n",
    "        print(kw, \":\", keywords[kw])\n",
    "\n",
    "\n",
    "# 函数调用\n",
    "variable_fun(\n",
    "    \"xiaoming\",\n",
    "    # 类似列表\n",
    "    \"hello xiaoming\",\n",
    "    \"nice to meet you!\",\n",
    "    # 类似字典\n",
    "    mother=\"xiaoma\",\n",
    "    father=\"xiaoba\",\n",
    "    son=\"see you\",\n",
    ")\n",
    "# 相同结果\n",
    "list01 = [\"hello xiaoming\", \"nice to meet you!\"]\n",
    "dict01 = {\"mother\": \"xiaoma\", \"father\": \"xiaoba\", \"son\": \"see you\"}\n",
    "variable_fun(\"xiaoming\", *list01, **dict01)"
   ]
  },
  {
   "cell_type": "markdown",
   "metadata": {},
   "source": [
    "## 关键字参数"
   ]
  },
  {
   "cell_type": "code",
   "execution_count": 4,
   "metadata": {},
   "outputs": [
    {
     "name": "stdout",
     "output_type": "stream",
     "text": [
      "-- This key_fun wouldn't voom if you put 1000 volts through it.\n",
      "-- Lovely plumage, the Norwegian Blue\n",
      "-- It's a stiff !\n",
      "\n",
      "-- This key_fun wouldn't voom if you put 1000 volts through it.\n",
      "-- Lovely plumage, the Norwegian Blue\n",
      "-- It's a stiff !\n",
      "\n",
      "-- This key_fun wouldn't VOOOOOM if you put 1000000 volts through it.\n",
      "-- Lovely plumage, the Norwegian Blue\n",
      "-- It's a stiff !\n",
      "\n",
      "-- This key_fun wouldn't VOOOOOM if you put 1000000 volts through it.\n",
      "-- Lovely plumage, the Norwegian Blue\n",
      "-- It's a stiff !\n",
      "\n",
      "-- This key_fun wouldn't jump if you put a million volts through it.\n",
      "-- Lovely plumage, the Norwegian Blue\n",
      "-- It's bereft of life !\n",
      "\n",
      "-- This key_fun wouldn't voom if you put a thousand volts through it.\n",
      "-- Lovely plumage, the Norwegian Blue\n",
      "-- It's pushing up the daisies !\n",
      "\n"
     ]
    }
   ],
   "source": [
    "# 借用官网例子\n",
    "def key_fun(voltage, state=\"a stiff\", action=\"voom\", type=\"Norwegian Blue\"):\n",
    "    print(\"-- This key_fun wouldn't\", action, end=\" \")\n",
    "    print(\"if you put\", voltage, \"volts through it.\")\n",
    "    print(\"-- Lovely plumage, the\", type)\n",
    "    print(\"-- It's\", state, \"!\")\n",
    "    print()\n",
    "\n",
    "\n",
    "# 函数调用\n",
    "key_fun(1000)  # 1 positional argument\n",
    "key_fun(voltage=1000)  # 1 keyword argument\n",
    "key_fun(voltage=1000000, action=\"VOOOOOM\")  # 2 keyword arguments\n",
    "key_fun(action=\"VOOOOOM\", voltage=1000000)  # 2 keyword arguments\n",
    "key_fun(\"a million\", \"bereft of life\", \"jump\")  # 3 positional arguments\n",
    "key_fun(\"a thousand\", state=\"pushing up the daisies\")  # 1 positional, 1 keyword"
   ]
  }
 ],
 "metadata": {
  "kernelspec": {
   "display_name": "Python 3",
   "language": "python",
   "name": "python3"
  },
  "language_info": {
   "codemirror_mode": {
    "name": "ipython",
    "version": 3
   },
   "file_extension": ".py",
   "mimetype": "text/x-python",
   "name": "python",
   "nbconvert_exporter": "python",
   "pygments_lexer": "ipython3",
   "version": "3.12.1"
  }
 },
 "nbformat": 4,
 "nbformat_minor": 2
}
