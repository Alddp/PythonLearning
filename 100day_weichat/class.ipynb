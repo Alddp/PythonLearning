{
 "cells": [
  {
   "cell_type": "markdown",
   "metadata": {},
   "source": [
    "创建一个 Die 类，它包含一个名为 sides 的属性，该属性的默认值为 6。编写一个名为 roll_die() 的方法，它打印位于 1 和骰子面数之间的随机数。\n",
    "\n",
    "创建一个 6 面的骰子并掷 10 次。\n",
    "创建一个 10 面的骰子和一个 20 面的骰子，再分别掷 10 次。"
   ]
  },
  {
   "cell_type": "code",
   "execution_count": 16,
   "metadata": {},
   "outputs": [],
   "source": [
    "from random import randint\n",
    "\n",
    "\n",
    "class Die:\n",
    "    \"\"\"docstring for Die .\"\"\"\n",
    "\n",
    "    sides = 6\n",
    "\n",
    "    def __str__(self) -> str:\n",
    "        return str(self.sides)\n",
    "\n",
    "    def roll_die(self):\n",
    "        print(randint(1, self.sides), end=\",\")"
   ]
  },
  {
   "cell_type": "code",
   "execution_count": 17,
   "metadata": {},
   "outputs": [],
   "source": [
    "die_6 = Die()\n",
    "die_10 = Die()\n",
    "die_20 = Die()\n",
    "die_10.sides = 10\n",
    "die_20.sides = 20"
   ]
  },
  {
   "cell_type": "code",
   "execution_count": 18,
   "metadata": {},
   "outputs": [
    {
     "name": "stdout",
     "output_type": "stream",
     "text": [
      "6\n",
      "1,5,4,5,1,1,5,1,2,4,\n",
      "10\n",
      "6,3,5,2,4,9,7,2,3,6,\n",
      "20\n",
      "10,14,17,16,12,11,18,7,8,10,20,11,2,11,18,8,12,13,17,16,\n"
     ]
    }
   ],
   "source": [
    "print(die_6)\n",
    "for i in range(10):\n",
    "    die_6.roll_die()\n",
    "print()\n",
    "\n",
    "print(die_10)\n",
    "for i in range(10):\n",
    "    die_10.roll_die()\n",
    "print()\n",
    "print(die_20)\n",
    "for j in range(20):\n",
    "    die_20.roll_die()\n",
    "print()"
   ]
  },
  {
   "cell_type": "markdown",
   "metadata": {},
   "source": [
    "__str__ 魔术方法"
   ]
  },
  {
   "cell_type": "code",
   "execution_count": 5,
   "metadata": {},
   "outputs": [],
   "source": [
    "class Student:\n",
    "    \"\"\"docstring for Student.\"\"\"\n",
    "\n",
    "    def __init__(self, name, age):\n",
    "\n",
    "        self.name = name\n",
    "        self.age = age\n",
    "\n",
    "    def __str__(self) -> str:\n",
    "        return f\"nams is: {self.name}\\nage is: {self.age}\""
   ]
  },
  {
   "cell_type": "code",
   "execution_count": 6,
   "metadata": {},
   "outputs": [
    {
     "name": "stdout",
     "output_type": "stream",
     "text": [
      "nams is: xiaoming\n",
      "age is: 19\n"
     ]
    }
   ],
   "source": [
    "stu_1 = Student(\"xiaoming\", 19)\n",
    "print(stu_1)"
   ]
  }
 ],
 "metadata": {
  "kernelspec": {
   "display_name": "Python 3",
   "language": "python",
   "name": "python3"
  },
  "language_info": {
   "codemirror_mode": {
    "name": "ipython",
    "version": 3
   },
   "file_extension": ".py",
   "mimetype": "text/x-python",
   "name": "python",
   "nbconvert_exporter": "python",
   "pygments_lexer": "ipython3",
   "version": "3.12.1"
  }
 },
 "nbformat": 4,
 "nbformat_minor": 2
}
