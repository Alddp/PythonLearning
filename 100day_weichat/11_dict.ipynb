{
 "cells": [
  {
   "cell_type": "markdown",
   "metadata": {},
   "source": [
    "## 字典方法\n"
   ]
  },
  {
   "cell_type": "markdown",
   "metadata": {},
   "source": [
    "### `dict.formkeys(seq[,value])`"
   ]
  },
  {
   "cell_type": "code",
   "execution_count": 5,
   "metadata": {},
   "outputs": [],
   "source": [
    "keys = [\"a\", \"b\", \"c\"]\n",
    "dict = {1: \"1\", 2: \"2\", 3: \"3\"}"
   ]
  },
  {
   "cell_type": "code",
   "execution_count": 6,
   "metadata": {},
   "outputs": [
    {
     "name": "stdout",
     "output_type": "stream",
     "text": [
      "{'a': None, 'b': None, 'c': None}\n"
     ]
    }
   ],
   "source": [
    "new_dict = dict.fromkeys(keys)\n",
    "\n",
    "print(new_dict)"
   ]
  },
  {
   "cell_type": "code",
   "execution_count": 7,
   "metadata": {},
   "outputs": [
    {
     "name": "stdout",
     "output_type": "stream",
     "text": [
      "{'a': 0, 'b': 0, 'c': 0}\n"
     ]
    }
   ],
   "source": [
    "default_value = 0\n",
    "new_dict_2 = dict.fromkeys(keys, default_value)\n",
    "\n",
    "print(new_dict_2)"
   ]
  },
  {
   "cell_type": "code",
   "execution_count": 8,
   "metadata": {},
   "outputs": [
    {
     "name": "stdout",
     "output_type": "stream",
     "text": [
      "{'a': {1: '1', 2: '2', 3: '3'}, 'b': {1: '1', 2: '2', 3: '3'}, 'c': {1: '1', 2: '2', 3: '3'}}\n"
     ]
    }
   ],
   "source": [
    "dic = {1: \"1\", 2: \"2\", 3: \"3\"}\n",
    "new_dict_2 = dict.fromkeys(keys, dic)\n",
    "print(new_dict_2)"
   ]
  },
  {
   "cell_type": "markdown",
   "metadata": {},
   "source": [
    "### `dict.get()`"
   ]
  },
  {
   "cell_type": "code",
   "execution_count": 9,
   "metadata": {},
   "outputs": [],
   "source": [
    "# dict.get(key, default=None)\n",
    "# 参数\n",
    "# key -- 字典中要查找的键。\n",
    "# default -- 如果指定键的值不存在时，返回该默认值值。"
   ]
  },
  {
   "cell_type": "code",
   "execution_count": 10,
   "metadata": {},
   "outputs": [
    {
     "name": "stdout",
     "output_type": "stream",
     "text": [
      "Age 值为 : 20\n",
      "Name 值为 : Mary\n",
      "Sex 值为 : NA\n",
      "None\n"
     ]
    }
   ],
   "source": [
    "# get ()方法的应用举例\n",
    "dic = {\"Name\": \"Mary\", \"Age\": 20}\n",
    "\n",
    "print(\"Age 值为 : %s\" % dic.get(\"Age\"))\n",
    "print(\"Name 值为 : %s\" % dic.get(\"Name\"))\n",
    "print(\"Sex 值为 : %s\" % dic.get(\"Sex\", \"NA\"))\n",
    "\n",
    "print(dic.get(\"other\"))"
   ]
  },
  {
   "cell_type": "code",
   "execution_count": null,
   "metadata": {},
   "outputs": [],
   "source": []
  },
  {
   "cell_type": "markdown",
   "metadata": {},
   "source": [
    "### `dict.items()`"
   ]
  },
  {
   "cell_type": "code",
   "execution_count": 11,
   "metadata": {},
   "outputs": [
    {
     "name": "stdout",
     "output_type": "stream",
     "text": [
      "dict_items([('老大', '25岁'), ('老二', '20岁'), ('老三', '12岁')])\n",
      "老大已经25岁了\n",
      "老二已经20岁了\n",
      "老三已经12岁了\n"
     ]
    }
   ],
   "source": [
    "dict1 = {\n",
    "    \"老大\": \"25岁\",\n",
    "    \"老二\": \"20岁\",\n",
    "    \"老三\": \"12岁\",\n",
    "}\n",
    "print(dict1.items())\n",
    "for key, values in dict1.items():\n",
    "    print(key + \"已经\" + values + \"了\")"
   ]
  },
  {
   "cell_type": "markdown",
   "metadata": {},
   "source": [
    "### `dict.keys()`"
   ]
  },
  {
   "cell_type": "code",
   "execution_count": 12,
   "metadata": {},
   "outputs": [
    {
     "name": "stdout",
     "output_type": "stream",
     "text": [
      "dict_keys(['Name', 'Age'])\n",
      "key:Name\n",
      "key:Age\n",
      "转换后的结果为 : ['Name', 'Age']\n"
     ]
    }
   ],
   "source": [
    "dict = {\"Name\": \"Mary\", \"Age\": 17}\n",
    "\n",
    "print(dict.keys())\n",
    "# 用for遍历对象\n",
    "for i in dict.keys():\n",
    "    print(f\"key:{i}\")\n",
    "\n",
    "\n",
    "list1 = list(dict.keys())\n",
    "print(\"转换后的结果为 : %s\" % list1)\n",
    "# 输出结果为一个列表，后续可以对其进行相应操作："
   ]
  },
  {
   "cell_type": "markdown",
   "metadata": {},
   "source": [
    "### `dict.values()`"
   ]
  },
  {
   "cell_type": "markdown",
   "metadata": {},
   "source": [
    "### `dict..setdefault()`\n",
    "\n",
    "`dict.setdefault(key, default=None)`\n",
    "参数:\n",
    "`key` -- 查找的键值。\n",
    "`default` -- 键不存在时，设置的默认键值。\n",
    "\n"
   ]
  },
  {
   "cell_type": "code",
   "execution_count": 13,
   "metadata": {},
   "outputs": [
    {
     "name": "stdout",
     "output_type": "stream",
     "text": [
      "Age 键的值为 : 17\n",
      "Sex 键的值为 : None\n",
      "新字典为： {'Name': 'Mary', 'Age': 17, 'Sex': None}\n"
     ]
    }
   ],
   "source": [
    "dict = {\"Name\": \"Mary\", \"Age\": 17}\n",
    "\n",
    "print(\"Age 键的值为 : %s\" % dict.setdefault(\"Age\", None))\n",
    "print(\"Sex 键的值为 : %s\" % dict.setdefault(\"Sex\", None))\n",
    "print(\"新字典为：\", dict)"
   ]
  },
  {
   "cell_type": "markdown",
   "metadata": {},
   "source": [
    "### `dict..update(dict2)`"
   ]
  },
  {
   "cell_type": "code",
   "execution_count": 14,
   "metadata": {},
   "outputs": [
    {
     "name": "stdout",
     "output_type": "stream",
     "text": [
      "更新字典 dict :  {'Name': 'Mary', 'Age': 17, 'Sex': 'female'}\n"
     ]
    }
   ],
   "source": [
    "# 参数\n",
    "# dict2 -- 添加到指定字典dict里的字典。\n",
    "\n",
    "dict = {\"Name\": \"Mary\", \"Age\": 17}\n",
    "dict2 = {\"Sex\": \"female\"}\n",
    "\n",
    "# 将 dict2 中的结果添加到字典 dict 中\n",
    "dict.update(dict2)\n",
    "print(\"更新字典 dict : \", dict)"
   ]
  },
  {
   "cell_type": "markdown",
   "metadata": {},
   "source": [
    "### `dict.pop(key[,default])`"
   ]
  },
  {
   "cell_type": "code",
   "execution_count": 15,
   "metadata": {},
   "outputs": [
    {
     "name": "stdout",
     "output_type": "stream",
     "text": [
      "17\n",
      "{'Name': 'Mary'}\n",
      "none\n"
     ]
    }
   ],
   "source": [
    "# pop(key[,default])\n",
    "# 参数\n",
    "# key: 要删除的键值\n",
    "# default: 如果没有 key，返回 default 值\n",
    "\n",
    "# 返回值# 返回被删除的值。\n",
    "\n",
    "dict = {\"Name\": \"Mary\", \"Age\": 17}\n",
    "\n",
    "result = dict.pop(\"Age\",'not exists')  # 删除\n",
    "def_result = dict.pop(\"no_exists\", \"none\")\n",
    "\n",
    "print(result)\n",
    "print(dict)\n",
    "print(def_result)"
   ]
  },
  {
   "cell_type": "markdown",
   "metadata": {},
   "source": [
    "### `dict.popitem()`"
   ]
  },
  {
   "cell_type": "markdown",
   "metadata": {},
   "source": [
    "Python 字典 `popitem()` 方法随机返回一个键值对`(key,value)`形式，按照 LIFO（Last In First Out 后进先出法） 顺序规则，即最末尾的键值对。如果字典已经为空，却调用了此方法，就报出KeyError异常。"
   ]
  },
  {
   "cell_type": "code",
   "execution_count": 16,
   "metadata": {},
   "outputs": [
    {
     "name": "stdout",
     "output_type": "stream",
     "text": [
      "('Age', 17)\n",
      "{'Name': 'Mary'}\n"
     ]
    }
   ],
   "source": [
    "dict = {\"Name\": \"Mary\", \"Age\": 17}\n",
    "pop_obj = dict.popitem()  # 调用三次就报错\n",
    "print(pop_obj)\n",
    "print(dict)"
   ]
  }
 ],
 "metadata": {
  "kernelspec": {
   "display_name": "Python 3",
   "language": "python",
   "name": "python3"
  },
  "language_info": {
   "codemirror_mode": {
    "name": "ipython",
    "version": 3
   },
   "file_extension": ".py",
   "mimetype": "text/x-python",
   "name": "python",
   "nbconvert_exporter": "python",
   "pygments_lexer": "ipython3",
   "version": "3.12.1"
  }
 },
 "nbformat": 4,
 "nbformat_minor": 2
}
